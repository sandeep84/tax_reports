{
 "cells": [
  {
   "cell_type": "code",
   "execution_count": 2,
   "metadata": {},
   "outputs": [],
   "source": [
    "import piecash\n",
    "from datetime import date"
   ]
  },
  {
   "cell_type": "code",
   "execution_count": 3,
   "metadata": {},
   "outputs": [],
   "source": [
    "book = piecash.open_book('C:\\\\Users\\\\sande\\\\Documents\\\\Accounts\\\\HomeAccounts.gnucash', readonly=False)\n",
    "commodity = book.commodities(mnemonic='INR')\n",
    "root_currency = book.root_account.commodity"
   ]
  },
  {
   "cell_type": "code",
   "execution_count": 4,
   "metadata": {},
   "outputs": [
    {
     "data": {
      "text/plain": [
       "Price<2008-06-01 : 0.011863262961970298 GBP/INR>"
      ]
     },
     "execution_count": 4,
     "metadata": {},
     "output_type": "execute_result"
    }
   ],
   "source": [
    "piecash.core.commodity.Price(commodity, root_currency, date(2007,7,1), '0.012232059695462868',source='user:xe')\n",
    "piecash.core.commodity.Price(commodity, root_currency, date(2007,8,1), '0.012239505825584845',source='user:xe')\n",
    "piecash.core.commodity.Price(commodity, root_currency, date(2007,9,1), '0.012103256985883276',source='user:xe')\n",
    "piecash.core.commodity.Price(commodity, root_currency, date(2007,10,1), '0.012325344768204776',source='user:xe')\n",
    "piecash.core.commodity.Price(commodity, root_currency, date(2007,11,1), '0.012228679707368061',source='user:xe')\n",
    "piecash.core.commodity.Price(commodity, root_currency, date(2007,12,1), '0.012280462279903372',source='user:xe')\n",
    "piecash.core.commodity.Price(commodity, root_currency, date(2008,1,1), '0.012775310834813501',source='user:xe')\n",
    "piecash.core.commodity.Price(commodity, root_currency, date(2008,2,1), '0.012985549021445298',source='user:xe')\n",
    "piecash.core.commodity.Price(commodity, root_currency, date(2008,3,1), '0.012575433213321488',source='user:xe')\n",
    "piecash.core.commodity.Price(commodity, root_currency, date(2008,4,1), '0.012595860069380743',source='user:xe')\n",
    "piecash.core.commodity.Price(commodity, root_currency, date(2008,5,1), '0.012479839430182707',source='user:xe')\n",
    "piecash.core.commodity.Price(commodity, root_currency, date(2008,6,1), '0.011863262961970298',source='user:xe')\n"
   ]
  },
  {
   "cell_type": "code",
   "execution_count": 5,
   "metadata": {},
   "outputs": [],
   "source": [
    "book.save()"
   ]
  },
  {
   "cell_type": "code",
   "execution_count": 1,
   "metadata": {},
   "outputs": [
    {
     "ename": "NameError",
     "evalue": "name 'book' is not defined",
     "output_type": "error",
     "traceback": [
      "\u001b[1;31m---------------------------------------------------------------------------\u001b[0m",
      "\u001b[1;31mNameError\u001b[0m                                 Traceback (most recent call last)",
      "Cell \u001b[1;32mIn[1], line 1\u001b[0m\n\u001b[1;32m----> 1\u001b[0m book\u001b[39m.\u001b[39mcancel()\n",
      "\u001b[1;31mNameError\u001b[0m: name 'book' is not defined"
     ]
    }
   ],
   "source": [
    "book.cancel()"
   ]
  }
 ],
 "metadata": {
  "kernelspec": {
   "display_name": "Python 3",
   "language": "python",
   "name": "python3"
  },
  "language_info": {
   "codemirror_mode": {
    "name": "ipython",
    "version": 3
   },
   "file_extension": ".py",
   "mimetype": "text/x-python",
   "name": "python",
   "nbconvert_exporter": "python",
   "pygments_lexer": "ipython3",
   "version": "3.11.1"
  },
  "orig_nbformat": 4,
  "vscode": {
   "interpreter": {
    "hash": "a3aaa5bf83107082ec940bb1a92250bcd0729866487de40f9cb1610e8f1537d6"
   }
  }
 },
 "nbformat": 4,
 "nbformat_minor": 2
}
