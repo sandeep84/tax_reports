{
 "cells": [
  {
   "cell_type": "code",
   "execution_count": 1,
   "metadata": {},
   "outputs": [],
   "source": [
    "import piecash\n",
    "from datetime import date"
   ]
  },
  {
   "cell_type": "code",
   "execution_count": 17,
   "metadata": {},
   "outputs": [],
   "source": [
    "book = piecash.open_book('C:\\\\Users\\\\sande\\\\Documents\\\\Accounts\\\\HomeAccounts.gnucash', readonly=False)\n",
    "commodity = book.commodities(mnemonic='INR')\n",
    "root_currency = book.root_account.commodity"
   ]
  },
  {
   "cell_type": "code",
   "execution_count": 18,
   "metadata": {},
   "outputs": [
    {
     "data": {
      "text/plain": [
       "Price<2011-11-01 : 0.012734193014193465 GBP/INR>"
      ]
     },
     "execution_count": 18,
     "metadata": {},
     "output_type": "execute_result"
    }
   ],
   "source": [
    "piecash.core.commodity.Price(commodity, root_currency, date(2005,10,1), \"0.012874707430388495\", source='user:xe')\n",
    "piecash.core.commodity.Price(commodity, root_currency, date(2006,10,1), \"0.01166390041493776\", source='user:xe')\n",
    "piecash.core.commodity.Price(commodity, root_currency, date(2011,11,1), \"0.012734193014193465\", source='user:xe')\n"
   ]
  },
  {
   "cell_type": "code",
   "execution_count": 13,
   "metadata": {},
   "outputs": [],
   "source": [
    "book.save()"
   ]
  },
  {
   "cell_type": "code",
   "execution_count": 16,
   "metadata": {},
   "outputs": [],
   "source": [
    "book.cancel()"
   ]
  }
 ],
 "metadata": {
  "kernelspec": {
   "display_name": "Python 3",
   "language": "python",
   "name": "python3"
  },
  "language_info": {
   "codemirror_mode": {
    "name": "ipython",
    "version": 3
   },
   "file_extension": ".py",
   "mimetype": "text/x-python",
   "name": "python",
   "nbconvert_exporter": "python",
   "pygments_lexer": "ipython3",
   "version": "3.11.1 (tags/v3.11.1:a7a450f, Dec  6 2022, 19:58:39) [MSC v.1934 64 bit (AMD64)]"
  },
  "orig_nbformat": 4,
  "vscode": {
   "interpreter": {
    "hash": "a3aaa5bf83107082ec940bb1a92250bcd0729866487de40f9cb1610e8f1537d6"
   }
  }
 },
 "nbformat": 4,
 "nbformat_minor": 2
}
